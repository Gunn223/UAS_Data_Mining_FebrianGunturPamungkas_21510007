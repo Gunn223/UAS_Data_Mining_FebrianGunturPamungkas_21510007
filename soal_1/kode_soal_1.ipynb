{
  "nbformat": 4,
  "nbformat_minor": 0,
  "metadata": {
    "colab": {
      "provenance": []
    },
    "kernelspec": {
      "name": "python3",
      "display_name": "Python 3"
    },
    "language_info": {
      "name": "python"
    }
  },
  "cells": [
    {
      "cell_type": "code",
      "source": [
        "import pandas as pd\n",
        "import numpy as np\n",
        "from sklearn.neighbors import KNeighborsRegressor\n",
        "\n",
        "data = pd.read_excel('./dataset soal no.1.xls')\n",
        "\n",
        "\n",
        "X = np.array(list(zip(data['Weather'], data['Holiday'], data['Game'])))\n",
        "y = np.array(data['Qty'])\n",
        "\n",
        "knn_regressor = KNeighborsRegressor(n_neighbors=3)\n",
        "knn_regressor.fit(X, y)\n",
        "\n",
        "\n",
        "input_a = np.array([[1, 1, 0]])\n",
        "predicted_a = knn_regressor.predict(input_a)\n",
        "\n",
        "print(\"\\nContoh Prediksi:\")\n",
        "print(f\"Jumlah roti yang harus dibuat jika Cuaca buruk, Holiday, Game = {input_a[0]}: {predicted_a[0]}\")\n",
        "\n",
        "input_b = np.array([[4, 0, 1]])\n",
        "predicted_b = knn_regressor.predict(input_b)\n",
        "\n",
        "print(f\"Jumlah roti yang harus dibuat jika Cuaca baik, bukan Holiday, Game = {input_b[0]}: {predicted_b[0]}\")\n",
        "\n",
        "for i in range(len(data['Weather'])):\n",
        "    input_data = np.array([[data['Weather'][i], data['Holiday'][i], data['Game'][i]]])\n",
        "    predicted_qty = knn_regressor.predict(input_data)\n",
        "    print(f\"\\nData {i+1}:\")\n",
        "    print(f\"Weather = {data['Weather'][i]}, Holiday = {data['Holiday'][i]}, Game = {data['Game'][i]}\")\n",
        "    print(f\"Jumlah roti yang harus dibuat: {predicted_qty[0]}\")\n"
      ],
      "metadata": {
        "colab": {
          "base_uri": "https://localhost:8080/"
        },
        "id": "eqSf2KE4On7R",
        "outputId": "0fa5ed98-3ded-4d69-8f5a-4fde4f062860"
      },
      "execution_count": 4,
      "outputs": [
        {
          "output_type": "stream",
          "name": "stdout",
          "text": [
            "\n",
            "Contoh Prediksi:\n",
            "Jumlah roti yang harus dibuat jika Cuaca buruk, Holiday, Game = [1 1 0]: 116.66666666666667\n",
            "Jumlah roti yang harus dibuat jika Cuaca baik, bukan Holiday, Game = [4 0 1]: 191.66666666666666\n",
            "\n",
            "Data 1:\n",
            "Weather = 5, Holiday = 1, Game = 0\n",
            "Jumlah roti yang harus dibuat: 216.66666666666666\n",
            "\n",
            "Data 2:\n",
            "Weather = 3, Holiday = 1, Game = 1\n",
            "Jumlah roti yang harus dibuat: 191.66666666666666\n",
            "\n",
            "Data 3:\n",
            "Weather = 1, Holiday = 1, Game = 0\n",
            "Jumlah roti yang harus dibuat: 116.66666666666667\n",
            "\n",
            "Data 4:\n",
            "Weather = 4, Holiday = 0, Game = 1\n",
            "Jumlah roti yang harus dibuat: 191.66666666666666\n",
            "\n",
            "Data 5:\n",
            "Weather = 4, Holiday = 0, Game = 0\n",
            "Jumlah roti yang harus dibuat: 216.66666666666666\n",
            "\n",
            "Data 6:\n",
            "Weather = 2, Holiday = 0, Game = 0\n",
            "Jumlah roti yang harus dibuat: 116.66666666666667\n"
          ]
        }
      ]
    }
  ]
}